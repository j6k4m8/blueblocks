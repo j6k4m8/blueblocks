{
 "cells": [
  {
   "cell_type": "code",
   "execution_count": 2,
   "metadata": {},
   "outputs": [],
   "source": [
    "from server import WordGrid"
   ]
  },
  {
   "cell_type": "code",
   "execution_count": 3,
   "metadata": {},
   "outputs": [],
   "source": [
    "g = WordGrid(4, 4)\n",
    "\n",
    "# Set a word:\n",
    "g[0, 0:2] = \"DO\"\n",
    "g[0:3, 0] = \"DOG\"\n",
    "g[2, 1:4] = \"OAT\"\n",
    "g[0:3, 3] = \"CAT\""
   ]
  },
  {
   "cell_type": "code",
   "execution_count": 4,
   "metadata": {},
   "outputs": [
    {
     "name": "stdout",
     "output_type": "stream",
     "text": [
      "d o _ c\n",
      "o _ _ a\n",
      "g o a t\n",
      "_ _ _ _\n"
     ]
    }
   ],
   "source": [
    "print(str(g))"
   ]
  },
  {
   "cell_type": "code",
   "execution_count": 5,
   "metadata": {},
   "outputs": [
    {
     "data": {
      "text/plain": [
       "['do', 'goat', 'dog', 'cat']"
      ]
     },
     "execution_count": 5,
     "metadata": {},
     "output_type": "execute_result"
    }
   ],
   "source": [
    "g.get_all_words()"
   ]
  },
  {
   "cell_type": "code",
   "execution_count": 6,
   "metadata": {},
   "outputs": [
    {
     "data": {
      "text/plain": [
       "[('do', True), ('goat', True), ('dog', True), ('cat', True)]"
      ]
     },
     "execution_count": 6,
     "metadata": {},
     "output_type": "execute_result"
    }
   ],
   "source": [
    "g.check_all_words()"
   ]
  },
  {
   "cell_type": "code",
   "execution_count": 7,
   "metadata": {},
   "outputs": [
    {
     "data": {
      "text/plain": [
       "(((0, 2), (0, 3)), 12)"
      ]
     },
     "execution_count": 7,
     "metadata": {},
     "output_type": "execute_result"
    }
   ],
   "source": [
    "g.get_bounding_box_extents(), g.get_bounding_box_area()"
   ]
  },
  {
   "cell_type": "code",
   "execution_count": 8,
   "metadata": {},
   "outputs": [
    {
     "data": {
      "text/plain": [
       "['d', 'o', 'g']"
      ]
     },
     "execution_count": 8,
     "metadata": {},
     "output_type": "execute_result"
    }
   ],
   "source": [
    "g[0:3, 0]"
   ]
  },
  {
   "cell_type": "code",
   "execution_count": 9,
   "metadata": {},
   "outputs": [
    {
     "data": {
      "text/plain": [
       "[['d', 'o', ''], ['o', '', ''], ['g', 'o', 'a']]"
      ]
     },
     "execution_count": 9,
     "metadata": {},
     "output_type": "execute_result"
    }
   ],
   "source": [
    "g[0:3, 0:3]"
   ]
  },
  {
   "cell_type": "code",
   "execution_count": null,
   "metadata": {},
   "outputs": [],
   "source": []
  },
  {
   "cell_type": "code",
   "execution_count": 10,
   "metadata": {},
   "outputs": [
    {
     "name": "stdout",
     "output_type": "stream",
     "text": [
      "[('bam', True), ('vote', True), ('load', True), ('opt', True), ('bolo', True), ('atop', True), ('meat', True)]\n",
      "20\n"
     ]
    }
   ],
   "source": [
    "gg = WordGrid.from_list_of_strings([\n",
    "    \"_BAM_\",\n",
    "    \"VOTE_\",\n",
    "    \"_LOAD\",\n",
    "    \"_OPT_\"\n",
    "])\n",
    "print( gg.check_all_words())\n",
    "print(gg.get_bounding_box_area())"
   ]
  },
  {
   "cell_type": "code",
   "execution_count": 13,
   "metadata": {},
   "outputs": [
    {
     "name": "stdout",
     "output_type": "stream",
     "text": [
      "[('ova', True), ('dealt', True), ('mood', True), ('aba', True), ('pott', False)]\n",
      "20\n"
     ]
    }
   ],
   "source": [
    "gg2 = WordGrid.from_list_of_strings([\n",
    "    \"M___P\",\n",
    "    \"OVA_O\",\n",
    "    \"O_B_T\",\n",
    "    \"DEALT\"\n",
    "])\n",
    "print(gg2.check_all_words())\n",
    "print(gg2.get_bounding_box_area())"
   ]
  },
  {
   "cell_type": "code",
   "execution_count": 14,
   "metadata": {},
   "outputs": [
    {
     "name": "stdout",
     "output_type": "stream",
     "text": [
      "_ b a m _\n",
      "v o t e _\n",
      "_ l o a d\n",
      "_ o p t _\n"
     ]
    }
   ],
   "source": [
    "print(gg)"
   ]
  },
  {
   "cell_type": "code",
   "execution_count": 15,
   "metadata": {},
   "outputs": [
    {
     "name": "stdout",
     "output_type": "stream",
     "text": [
      "m _ _ _ p\n",
      "o v a _ o\n",
      "o _ b _ t\n",
      "d e a l t\n"
     ]
    }
   ],
   "source": [
    "print(gg2)"
   ]
  },
  {
   "cell_type": "code",
   "execution_count": 17,
   "metadata": {},
   "outputs": [
    {
     "data": {
      "text/plain": [
       "30"
      ]
     },
     "execution_count": 17,
     "metadata": {},
     "output_type": "execute_result"
    }
   ],
   "source": [
    "WordGrid.from_list_of_strings([\"___V__\",\n",
    "\"__MOAT\",\n",
    "\"BOAT__\",\n",
    "\"___E__\",\n",
    "\"PLOD__\",]).get_bounding_box_area()"
   ]
  },
  {
   "cell_type": "code",
   "execution_count": null,
   "metadata": {},
   "outputs": [],
   "source": [
    "# https://1word.ws/aba\n",
    "# https://crossword-solver.io/clue/_/pattern/op_/\n",
    "# https://www.keiranking.com/apps/phil/"
   ]
  },
  {
   "cell_type": "code",
   "execution_count": 31,
   "metadata": {},
   "outputs": [],
   "source": [
    "def count_connected_components(grid):\n",
    "    \"\"\"\n",
    "    Get the connected components of a grid and the number of elements in each component.\n",
    "    \"\"\"\n",
    "    n = len(grid)\n",
    "    m = len(grid[0])\n",
    "    visited = [[False for _ in range(m)] for _ in range(n)]\n",
    "    components = []\n",
    "    for i in range(n):\n",
    "        for j in range(m):\n",
    "            if not visited[i][j] and grid[i][j] != \"\":\n",
    "                component = []\n",
    "                stack = [(i, j)]\n",
    "                while stack:\n",
    "                    x, y = stack.pop()\n",
    "                    if not visited[x][y]:\n",
    "                        visited[x][y] = True\n",
    "                        component.append((x, y))\n",
    "                        for dx, dy in [(0, 1), (0, -1), (1, 0), (-1, 0)]:\n",
    "                            if 0 <= x + dx < n and 0 <= y + dy < m and not visited[x + dx][y + dy] and grid[x + dx][y + dy] != \"\":\n",
    "                                stack.append((x + dx, y + dy))\n",
    "                components.append(component)\n",
    "    return components, [len(c) for c in components]\n",
    "    "
   ]
  },
  {
   "cell_type": "code",
   "execution_count": 35,
   "metadata": {},
   "outputs": [
    {
     "data": {
      "text/plain": [
       "([[(0, 0),\n",
       "   (1, 0),\n",
       "   (2, 0),\n",
       "   (3, 0),\n",
       "   (3, 1),\n",
       "   (3, 2),\n",
       "   (2, 2),\n",
       "   (1, 2),\n",
       "   (1, 1),\n",
       "   (3, 3),\n",
       "   (3, 4),\n",
       "   (2, 4),\n",
       "   (1, 4),\n",
       "   (0, 4)]],\n",
       " [14])"
      ]
     },
     "execution_count": 35,
     "metadata": {},
     "output_type": "execute_result"
    }
   ],
   "source": [
    "count_connected_components(gg2.grid)"
   ]
  },
  {
   "cell_type": "code",
   "execution_count": 33,
   "metadata": {},
   "outputs": [
    {
     "name": "stdout",
     "output_type": "stream",
     "text": [
      "[('moat', True), ('at', True), ('ma', True), ('vote', True)]\n",
      "([[(0, 3), (1, 3), (2, 3), (3, 3), (2, 2), (1, 2), (1, 4), (1, 5)], [(2, 0)]], [8, 1])\n"
     ]
    }
   ],
   "source": [
    "gg3 = WordGrid.from_list_of_strings([\n",
    "    \"___V__\",\n",
    "    \"__MOAT\",\n",
    "    \"B_AT__\",\n",
    "    \"___E__\",\n",
    "])\n",
    "print(gg3.check_all_words())\n",
    "print(count_connected_components(gg3.grid))"
   ]
  },
  {
   "cell_type": "code",
   "execution_count": 38,
   "metadata": {},
   "outputs": [
    {
     "data": {
      "text/plain": [
       "['A',\n",
       " 'P',\n",
       " 'S',\n",
       " 'T',\n",
       " 'E',\n",
       " 'A',\n",
       " 'L',\n",
       " 'L',\n",
       " 'I',\n",
       " 'S',\n",
       " 'E',\n",
       " 'S',\n",
       " 'R',\n",
       " 'M',\n",
       " 'O',\n",
       " 'T']"
      ]
     },
     "execution_count": 38,
     "metadata": {},
     "output_type": "execute_result"
    }
   ],
   "source": [
    "import random\n",
    "random.sample(\n",
    "    \"SLAMTILEEATSPROS\",\n",
    "    len(\"SLAMTILEEATSPROS\")\n",
    ")"
   ]
  },
  {
   "cell_type": "code",
   "execution_count": null,
   "metadata": {},
   "outputs": [],
   "source": []
  }
 ],
 "metadata": {
  "kernelspec": {
   "display_name": "Python 3.10.0 64-bit ('3.10.0')",
   "language": "python",
   "name": "python3"
  },
  "language_info": {
   "codemirror_mode": {
    "name": "ipython",
    "version": 3
   },
   "file_extension": ".py",
   "mimetype": "text/x-python",
   "name": "python",
   "nbconvert_exporter": "python",
   "pygments_lexer": "ipython3",
   "version": "3.10.0"
  },
  "orig_nbformat": 4,
  "vscode": {
   "interpreter": {
    "hash": "c87ee834c2458a7cf5e34743e4a2d302f1d67af2ede21ef77017c6c0552f8c80"
   }
  }
 },
 "nbformat": 4,
 "nbformat_minor": 2
}
